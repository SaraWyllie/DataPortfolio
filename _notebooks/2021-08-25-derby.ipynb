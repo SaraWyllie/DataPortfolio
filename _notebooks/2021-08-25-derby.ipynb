{
 "cells": [
  {
   "cell_type": "markdown",
   "metadata": {},
   "source": [
    "#  Roller derby stats\n"
    "#  Web scraping and data visualization"
     "
   ]
  },
  {
   "cell_type": "markdown",
   "metadata": {},
   "source": [
    "As a roller derby player myself, it was only natural for me to look for roller derby statistics when trying to decide on a web scraping project.  Stats are scraped from flattrackstats.com.  First I will set scrape the site for multiple teams then do a closer examination of the stats for a particular team."
   ]
  },
  {
   "cell_type": "code",
   "execution_count": 1,
   "metadata": {},
   "outputs": [],
   "source": [
    "#import libraries and set some preferences\n",
    "import requests\n",
    "from bs4 import BeautifulSoup\n",
    "import pandas as pd\n",
    "import numpy as np\n",
    "import matplotlib.pyplot as plt\n",
    "import seaborn as sns\n",
    "sns.set_style('whitegrid')\n",
    "pd.set_option('display.max_rows', None)\n",
    "pd.set_option('display.max_columns', None)\n",
    "pd.options.display.width=None\n",
    "import warnings\n",
    "warnings.filterwarnings('ignore')"
   ]
  },
  {
   "cell_type": "markdown",
   "metadata": {},
   "source": [
    "## Scraping the site"
   ]
  },
  {
   "cell_type": "markdown",
   "metadata": {},
   "source": [
    "Flattrackstats has their statistics separated by team number.  Each team page contains data table with bout statistics for many years.  Each of these tables spans an additional four pages.  I will two functions to perform the data scraping.  The teamurl function takes in a particle team number and returns the url for that particular team's page.  The derby scrape function loops through each team number and each team's pages.  It uses pandas read_html method to scrape the pages and BeautifulSoup to parse them for team specific information.  The raw data contains columns for home team names and visitor team names.  In order to more easily analyze data by team, I would rather have columns that list the team name, the opponent, and whether the bout is home or away.  To do that, I use BeautifulSoup to extract the team name for each team number and store those names in a new column. "
   ]
  },
  {
   "cell_type": "code",
   "execution_count": 2,
   "metadata": {},
   "outputs": [],
   "source": [
    "#function to get team specific url\n",
    "def teamurl (team_no):\n",
    "    base_site='http://flattrackstats.com/teams/'+str(team_no)\n",
    "    return base_site\n"
   ]
  },
  {
   "cell_type": "code",
   "execution_count": 3,
   "metadata": {},
   "outputs": [],
   "source": [
    "#function to scrape flattrack stats for particular teams, takes int. for number of pages for each team and a list of team numbers\n",
    "def derby_scrape (pages,team_nums):\n",
    "    \n",
    "#set up a datafframe for tables from each url and team names\n",
    "    tabs=pd.DataFrame()\n",
    "    name=pd.DataFrame()\n",
    "\n",
    "\n",
    "#loop through all desired team numbers\n",
    "    for t in team_nums:\n",
    "        baseurl=teamurl(t)\n",
    "        \n",
    "#loop through each page the table spans \n",
    "        for p in range(pages):\n",
    "            url=baseurl+'?page={0}'.format(p) \n",
    "            df=pd.read_html(url)\n",
    "            \n",
    "#get data from statistics table (5th table on page), use BeautifulSoup to get the name for each team's number.\n",
    "            st=df[5]\n",
    "            response=requests.get(url)\n",
    "            html=response.content\n",
    "            soup=BeautifulSoup(html, 'lxml')\n",
    "            st['Team']=soup.find('div', {'class':'leaguename'}).text\n",
    "            tabs=tabs.append(st)   \n",
    "    return tabs"
   ]
  },
  {
   "cell_type": "code",
   "execution_count": 4,
   "metadata": {},
   "outputs": [],
   "source": [
    "#scrape the site, for this site each team has 5 pages of data so input 4 and a list of team numbers \n",
    "rd_df=derby_scrape(4,list(range(3397,3402)))"
   ]
  },
  {
   "cell_type": "code",
   "execution_count": 5,
   "metadata": {},
   "outputs": [
    {
     "data": {
      "text/html": [
       "<div>\n",
       "<style scoped>\n",
       "    .dataframe tbody tr th:only-of-type {\n",
       "        vertical-align: middle;\n",
       "    }\n",
       "\n",
       "    .dataframe tbody tr th {\n",
       "        vertical-align: top;\n",
       "    }\n",
       "\n",
       "    .dataframe thead th {\n",
       "        text-align: right;\n",
       "    }\n",
       "</style>\n",
       "<table border=\"1\" class=\"dataframe\">\n",
       "  <thead>\n",
       "    <tr style=\"text-align: right;\">\n",
       "      <th></th>\n",
       "      <th>Date</th>\n",
       "      <th>Sanc.</th>\n",
       "      <th>Home Team</th>\n",
       "      <th>Score</th>\n",
       "      <th>Visitor Team</th>\n",
       "      <th>Score.1</th>\n",
       "      <th>Score Diff</th>\n",
       "      <th>Tournament</th>\n",
       "      <th>Bout Stats</th>\n",
       "      <th>Team</th>\n",
       "    </tr>\n",
       "  </thead>\n",
       "  <tbody>\n",
       "    <tr>\n",
       "      <td>0</td>\n",
       "      <td>8/17/19</td>\n",
       "      <td>NaN</td>\n",
       "      <td>Big Easy</td>\n",
       "      <td>184.0</td>\n",
       "      <td>Bux-Mont</td>\n",
       "      <td>59.0</td>\n",
       "      <td>125.0</td>\n",
       "      <td>NaN</td>\n",
       "      <td>Stats</td>\n",
       "      <td>Big Easy Rollergirls</td>\n",
       "    </tr>\n",
       "    <tr>\n",
       "      <td>1</td>\n",
       "      <td>7/27/19</td>\n",
       "      <td>NaN</td>\n",
       "      <td>Big Easy</td>\n",
       "      <td>283.0</td>\n",
       "      <td>Carolina</td>\n",
       "      <td>55.0</td>\n",
       "      <td>228.0</td>\n",
       "      <td>NaN</td>\n",
       "      <td>Stats</td>\n",
       "      <td>Big Easy Rollergirls</td>\n",
       "    </tr>\n",
       "    <tr>\n",
       "      <td>2</td>\n",
       "      <td>6/22/19</td>\n",
       "      <td>NaN</td>\n",
       "      <td>Big Easy</td>\n",
       "      <td>156.0</td>\n",
       "      <td>Rockin' City</td>\n",
       "      <td>82.0</td>\n",
       "      <td>74.0</td>\n",
       "      <td>NaN</td>\n",
       "      <td>Stats</td>\n",
       "      <td>Big Easy Rollergirls</td>\n",
       "    </tr>\n",
       "    <tr>\n",
       "      <td>3</td>\n",
       "      <td>6/22/19</td>\n",
       "      <td>NaN</td>\n",
       "      <td>North Texas</td>\n",
       "      <td>98.0</td>\n",
       "      <td>Big Easy</td>\n",
       "      <td>132.0</td>\n",
       "      <td>34.0</td>\n",
       "      <td>NaN</td>\n",
       "      <td>Stats</td>\n",
       "      <td>Big Easy Rollergirls</td>\n",
       "    </tr>\n",
       "    <tr>\n",
       "      <td>4</td>\n",
       "      <td>6/15/19</td>\n",
       "      <td>NaN</td>\n",
       "      <td>Big Easy</td>\n",
       "      <td>123.0</td>\n",
       "      <td>Nashville</td>\n",
       "      <td>160.0</td>\n",
       "      <td>-37.0</td>\n",
       "      <td>NaN</td>\n",
       "      <td>Stats</td>\n",
       "      <td>Big Easy Rollergirls</td>\n",
       "    </tr>\n",
       "  </tbody>\n",
       "</table>\n",
       "</div>"
      ],
      "text/plain": [
       "      Date Sanc.    Home Team  Score  Visitor Team  Score.1  Score Diff  \\\n",
       "0  8/17/19   NaN     Big Easy  184.0      Bux-Mont     59.0       125.0   \n",
       "1  7/27/19   NaN     Big Easy  283.0      Carolina     55.0       228.0   \n",
       "2  6/22/19   NaN     Big Easy  156.0  Rockin' City     82.0        74.0   \n",
       "3  6/22/19   NaN  North Texas   98.0      Big Easy    132.0        34.0   \n",
       "4  6/15/19   NaN     Big Easy  123.0     Nashville    160.0       -37.0   \n",
       "\n",
       "  Tournament Bout Stats                  Team  \n",
       "0        NaN      Stats  Big Easy Rollergirls  \n",
       "1        NaN      Stats  Big Easy Rollergirls  \n",
       "2        NaN      Stats  Big Easy Rollergirls  \n",
       "3        NaN      Stats  Big Easy Rollergirls  \n",
       "4        NaN      Stats  Big Easy Rollergirls  "
      ]
     },
     "execution_count": 5,
     "metadata": {},
     "output_type": "execute_result"
    }
   ],
   "source": [
    "rd_df.head()"
   ]
  },
  {
   "cell_type": "markdown",
   "metadata": {},
   "source": [
    "## Data Cleaning"
   ]
  },
  {
   "cell_type": "code",
   "execution_count": 6,
   "metadata": {},
   "outputs": [],
   "source": [
    "rd_df.reset_index(inplace=True, drop=True)"
   ]
  },
  {
   "cell_type": "code",
   "execution_count": 7,
   "metadata": {},
   "outputs": [
    {
     "data": {
      "text/plain": [
       "<matplotlib.axes._subplots.AxesSubplot at 0x20c02c76b38>"
      ]
     },
     "execution_count": 7,
     "metadata": {},
     "output_type": "execute_result"
    },
    {
     "data": {
      "image/png": "iVBORw0KGgoAAAANSUhEUgAAAWIAAAEqCAYAAAAvV1p7AAAABHNCSVQICAgIfAhkiAAAAAlwSFlzAAALEgAACxIB0t1+/AAAADl0RVh0U29mdHdhcmUAbWF0cGxvdGxpYiB2ZXJzaW9uIDMuMC4zLCBodHRwOi8vbWF0cGxvdGxpYi5vcmcvnQurowAAIABJREFUeJzt3XmcZFV9//9XDzPD5oDIIosILvAWBCSKCAzLGEBBZUmiBlARZI1Edo2AikQWFxZ/GmUcEEG/ECQQBFFAUIZlgKAICgJvMoKIKAgEZIeZ7vr9cW4xNUUv1d137f48fdSDrlvV95waqz596tzP55y+VqtFCCGE6kypugMhhDDZRSAOIYSKRSAOIYSKRSAOIYSKRSAOIYSKRSAOIYSKTc3zZJKmAN8G3ga8COxre36ebYQQQl1IehfwFduzuo7vBHwBWAicZfuM4c6T94h4V2Ap25sDnwVOyfn8IYRQC5I+A5wJLNV1fBpwGvAeYBtgf0mrDneuvAPxlsAVALZvBjbJ+fwhhFAXvwf+cZDj6wHzbT9h+yXgBmCr4U6U69QEsBzwt477/ZKm2l44aOPT1yilrO/5P19fRjMALL36sP/eYZKK9+D4LXzpob7xnmPBY/f1HHM2mLnjAcD+HYfm2J7TvmP7IklrD/Kr3XHwaWD54drKOxA/BczouD9lqCAcQgilG+jv+alZ0J0z4hNfqTsOzgCeHO4X8p6amAe8D0DSZsAdOZ8/hBDGrjXQ+23s7gbWkfQaSdOBrYGbhvuFvEfEFwPbS7oR6AP2zvn8ITTSRJ0uaJyBcQXYYUnaA3iV7TmSDgeuJA12z7L90HC/21fl6msxRxwmi3gPjl8ec8Qv/fl3Pcec6au/ddzt9SrvEXEIIdRXfz0vWU2KyrqJOkIIIYzSQH/vtxKNaUQsaQngDEBAP7C37d9nj+0BfCor6qiNCMYhhHFehCvMWKcmdgKwPVPSLOBUYBdJGwP7kC7UhRAyMRCoiQIv1o3HmAKx7R9Juiy7uxbwiKQVgS8Dh5JGy7URF0pC1eI9WA+tCTYixvZCSecA/wB8CPgucBjwfE59CyGEfNV0RDyui3W2Pw6sC/yItOLa6cD5wPqSvj7+7oUQQo76F/R+K9GYArGkj0k6Krv7HPAwsF62FNxuwF22D82niyGEkJNyKutGbaxTE/8NfE/SdcA04FDbL+TXrRAmlpi3rYmaTk1Miso6KO9iSXzgQihGHpV1L955Vc8xZ8kNto/KurxFgAxViqyJmqjpiHhSBOL4EIQQAFqtcivmejXmQJxdrNsZmE7ap+5WYDZpj6Z7SfvV1fPPTwgliz/QNVHTtSbGWuI8C9gCmAksAxwJfAD4d9s/lXQu8H7gxzn1c1ziQxCqFt/KamKCFXS8l7To+8WkbUE+DQwAr5HUR1qRvtxEvBBCGEnJi/n0aqyBeCVSafMHgDcAlwJfBL4FfI60X9Pc8XcvHzEaCSEAE25E/DhwT7ZDqSW9AJwLbGj7d5IOAk4BDsqpnyE0WvyBrokJljVxA3CIpFOB1YBlSVtLP5U9/mfS/HEtLL36VqWOikPoFt/KamIiXayzfZmkrYFbSGXSBwHPAudLWgi8BOyXWy/HKYJwCAGYcCNibH9mkMO1GQWHEEK3CZdH3CTxVS1ULd6DNTHRRsRNEvNzoWrxHqyJCZY1EUIIzdPkEbGkdwFfsT1L0puBs4EWcCdwkO0BSV8DtszOOcd2rbZLCiGExmZNSPoM8DFSVgSkjUI/Z3uupNmkTUOfBN5se3NJSwK/k3Sh7ScK63kIDRLTBTXR4KmJ3wP/CPwgu/8O4Nrs58uB9wBHALdnx1rAEtSoxDk+BKFqMUdcE02dmrB9kaS1Ow712W4vrvw0sHy2O8cLkqYB55CmJp7JvbdjFB+CEAJQ20A8lj3rOl/JDOBJAEkrAFeQ9qs7KYe+hRBCvibQnnW3SZpley6wI3CNpKWBnwOn2D43zw6GMBHEN6WaaOrFukEcAZwhaTpwN3AhcDDwRmA/Se3S5r1t359PN0Notpgeq4maTk30FIht/wHYLPv5XmCbrqeclt1CCKG+Gpw1EUIIE0OTR8RNF1/VQghAswNxV2Xd+sAcoA/4DfAp2/2SdgSOzX7l16SKu9bgZyxfWXN0EfTDYOJ9UROt2oSkxYylsu5E4Gjb10k6G9hZ0tXA14BZth/Lfmcl4NFiuj168UEIVYqLdTWxsLlZE92Vdf+UjYCnA6sCj5B2dL4DOEXSG4EzbdcmCMeHIFQt3hc10dSLdd2VdVkQXgu4mrRJqIEdgHcDGwPPANdLuinLsAghhHrIaY5Y0hTg28DbgBeBfW3P73j8SGB3UgHcibYvHu58Y6msw/YDttcBZpMWAXoc+KXth7PS5utIQTmEEOqj1er9NrxdgaVsbw58lrRZMgCSXk2qrdictBbP10c62aizJiRdChxh+39Ja00MALcCG0haiVTyvBkQy2CGEOplFCNiSfsD+3ccmmN7TvbzlqQlHbB9s6RNOp73LPAAaVPlZVl8WYhBjSV97cvA2ZJeAp4jDckflXQUcGX2nAts3zmGc4cQQnFGEYizoDtniIeXI03NtvVLmmq7fTXwQeAu0kqUI669M5bKuhsZZJNQ2+cD5/dyvhBCqEKrP7fNQ58iLXrWNqUjCO8IrAa8Ibt/paR5tm8Z6mSTpqCjzMyJELpF5k5N5FfQMQ/YCbhA0makrLG2J4DngRdtt7KNM1493MkmRSCOIByqFsGxJvJLX7sY2F7SjaTitr0lHQ7Mt32ppO2AmyUNADcAVw13sp4DcVd13fmkHGKAtYGbbe8m6Vjg/cBC4NDhhuIhhFC6gXwq62wPAAd2Hb6n4/FjWVRpPKJeS5wXq66zvVt2fAXgGuAwSW8nrcr2LmBN4CLgnb12JIQQClfTtSZ6zSNuV9d1Ow74pu2/kNI5fma7ZfuPwFRJK+fUzxBCGL/+/t5vJeopENu+iK7NQCWtAmwLnJ0d6k7neBpYfvxdDCGEnAwM9H4r0Xgu1n0QOM92+09HdzrHy/vZhTDZRdZETeQ0R5y38QTi7YDjO+7PA74q6WTgdaS8usfG07kQJooIjjXR1EV/hiHgvvYd27dKuh64iTTlcdA4+5ab+BCEqsWIuCZqOiLua1W4UPLU6WvU818lhJxFIB6/hS891Dfeczx70sd7jjnLHnXOuNvrVRR05GyifgjC+MT7oiZKzobo1aQIxCFULQYDNVHTqYletkqaBpxFqqBbknSB7i5S2loLuJO0P91A9vxlgBuBz9q+opBehxDCWNS0oKOXEfFHgcdtf0zSisBtwO3A52zPlTQb2IVUew3wLVKADiFkYpRaE00dEQP/BVzYcX8h8A7g2uz+5aRV6C/OtgdpL4IRQgj10tT0tWzrIyTNIAXkzwEn227/aXkaWF7StsA6tg+Q9Ir1ikOYzGKOuCYaPCJG0pqkqYdv2z5P0lc7Hm5X0O0DrCVpLvAW4O2SHrZ9e859HrVYjzhULYJjPbQWNjRrQtJrgZ8B/2r759nh2yTNsj2XtBr9NbZ/2PE7ZwPn1yEIQ6xHHKoXI+KaaPCI+GhgBeDzkj6fHTsE+Iak6cDdLD6HHELoEsGxJmo6RxyVdSGUIEbE45dHZd0zh+/cc8x51amXRmVdnuJDEEIAaDV4aqLxIjiGqsV7sCaaeLFuiKq6+cAcUq7wb4BP2e7Pcoh3BwaAE21fPOhJQwihKg0dEQ9WVfdr4Gjb12XZETtLugY4GHgzsCyp8q42gTimJkIIQGMD8WBVdf+UjYCnk3ZyfoS0qegDpCC8LGlUXBuRRxxCAKgyOWE4wwbiwarqsiC8FnA1aY86Z09/kLQY0BLASYX1eAwiCIeqxbeymqjpiHjEzUOzqrprgB/YPg/A9gO21wFmA6eSijpWA94AvB7YVdKmhfU6hBDGYqDV+61EI12se0VVnaRLgSNs/y9pnYkB4AngeeBF2y1JTwKvLrTnITRIjFLrobWwVrOmLxtpjniwqrpjgLMlvQQ8B+xr+y+StgNuljQA3ABcVVSnQ2iamJqoiXrG4RHniA8hlTN3e8XqaraPBY7NqV8hhJC7KOgIIYSqRSAOYfKK6YKaaOLUBAxZXbcHKYeY7PjNtneT9DVgy+y8c2yfUUCfRy3yiEMI0OypiVdU19l+PYCkFUipbYdJejfwZtubS1oS+J2kC20/UVjvR2EijkjiAlAIo9Na2NxAPFh1XdtxwDezrIknSKXNkDYPXQJYkEsvw6AiOIYwSk2dmhhizzokrQJsCxyWPe8F4IVsKuMc0tTEMwX1O4RGiW8v9VDTdeHHtmdddviDwHm2+zuetwIpWM+1XZsy5/gQhKrF+6ImmhqIh9izDmA70oW79vOWBn4OnGL73Lw7GkII49XkEfFg1XU7AgLu63jegcAbgf0k7Zcd29v2/Xl1NoQQxqO1cOTn9ELSFODbwNuAF0kVxvM7Ht+RRQVuvwYOsj3klcJe5oiHqq57a9fzTgNOG+l8IYRQlRxHxLsCS2VZYpsBpwC7wMvX074GzLL9mKTPACsBjw51shFXXwshhImiNdD7bQRbAlcA2L4Z2KTjsS2AO4BTJF0PPGJ7yCAMUVkXQphMWr1vzCxpf2D/jkNzbM/Jfl6OtB57W7+kqbYXkka/7wY2Bp4Brpd0k+17h2qrl4t1SwBnkOaE+4G9SfvVnU3KF76TNP8xIGkv4F9IOcSX2P7SyC83hBDKMZqpiSzozhni4aeAGR33p2RBGOBx4Je2HwaQdB0pKA8ZiHuZmtgp69RM4AukheBPJe3WsRUpKO8i6U2kIDwL2BSYnuUUhxBCLbQG+nq+jWAe8D6AbI74jo7HbgU2kLSSpKnAZqTdi4bUy8W6H0m6LLu7FmmPuvcD12bHLgfeA6wC/IpUzLEacILtqKwLIdTGQH/vUxMjuBjYXtKNpMHo3pIOB+bbvlTSUcCV2XMvsH3ncCfraY7Y9kJJ5wD/QCrk+EBHKsbTwPKkeZGtSRPVSwPzJL3T9pOje30hhFCMvLImbA+QUnY73dPx+PnA+b2er+esCdsfB9YlzRcv3fHQDOBJ0rzIXNtP2/4raSi+bq/nDyGEouU4NZGrXjYP/Vg2zIa0NdIA8CtJs7JjOwLXk+ZMZklaStKywPrA/O7zhRBCVVqt3m9l6mVq4r+B72VX/qYBhwJ3A2dImp79fKHtfknfJQXkPuBLtv+voH6HEMKolT3S7VVfq+zQ32Hq9DVKaTwW/Qmh+Ra+9NC4o+gfNt6+55iz9u1XlRa1o6AjhDBp5Jg1kasIxCGESaM1isq6Mo2pss7277PH9gA+ZXvz7P5+wAGkXTyOt33Z4GcNIYTy1XUZzLFW1iFpY2Af0oU5JK0KHAzMBN4LnJTtXRdCCLUw0Orr+VamEQOx7R+xaOGLtYBHsk1Ev0zKoGjbFJhn+0XbfyOlrm2Uc39DCGHMWq2+nm9lGktl3YeA75L2qnu+42ndqxG1K+5CCKEW6nqxbiyVdT8irUp/OqmEb31JX+eVqxG1K+5CCKEWJlJl3cPAerZnAbsBd9k+FLgF2CqrrFseWI+0RGYIIdRCY+eISZV1f5dV1l0JHGr7he4nZWtvfoNU7vwL4JjBnhdCCFWp6xxxVNblLCrrQihGHpV1v117p55jzkZ/+HFU1uUpgmOoWgwG6qHsKYdeTYpAHB+CULV4X9TDQE0X/RnrnnUnAKtmT1kbuNn2btnzlwFuBD5r+4oC+hxCCGPS5BHxy5V12RrEp9reBUDSCsA1pJzitm+RNhWtjRiNNEtZ32DKfF/Et7J6aOxaE0PsWdd2HPBN238BkHQkaTRcz1cbGiECSShKk0fEg+1Zh6RVgG3JRsOStgXWsX2ApJkF9XdMYjQSQoCafVXvMKr0tWxhn/8hbYP0cWAF2ydkj51HGjEvAN4C/BXY0/btQ50v0tdCCL3KI31t3qof7DnmzHz4wvqkr0n6GPA62yexaM+6fmA74Pj282zv0fE7ZwPnDxeEQwihbDVdBXNclXUC7iuycyGEkKcWfT3fytTLxbpngQ8Pcvytw/zOXuPrVggh5G+gppPEk6KgI4SqxXWKehioaUJXBOIQShDBsR7KnnLoVU+BOEtVuxXYnrQf3dmkTJA7gYNsD0g6FdiSNB9+hO15hfR4DOJDEEIA6G9qIJY0DfgOi3bjOBX4nO25kmYDu0i6D9gCeBfwZtKC8e8opsujF18LQwhQ36yJXkbEJwOzgfbi8O8Ars1+vhx4D3AsKbVtSdKWSQvy7eb4RHAMVYvBQD00MhBL2gt41PaVHbt09NluX3ts70u3kPQa78nu71dMd8cmPgShavG+qIemzhF/AmhJ2g7YGPg+sErH4+196fYkbaH03uzYDZJusv1Q/l0OoXliMFAPNV0Fc/iCDttb294m25/udlLAvTxbhQ1gR9LWSE8Az9juJ42SXwReVVSnQwhhLAbo6/lWprGkrx0BnCFpOnA3cGF2fKakG4ElgHNtO6c+hhBCLvqr7sAQeg7E2ai4bZtBnnLguHsTwgQV0wX1MNBXz7mJSVHQER+CEALUdxnMSRGI40JJqFq8B+uhkelrbZ2VdbbvyY7tAXzK9ubZ/cOA3bJf+ant4wro75jEGzOEAPllTUiaAnwbeBspOWFf2/MHec5PgEtszx7ufGOprEPSxsA+ZFsiSXoj8BFSZV0LuF7SxbZ/2/tLK06MRkLV4n1RDzmWOO8KLGV7c0mbAacAu3Q953jgNb2cbNSVdZJWBL4MHEra3RngQWCHLH2tHbxf6KUDIYRQltGMiCXtD+zfcWiO7TnZz1sCVwDYvlnSJl2/+0HSTMjlvbQ12sq6JYDvkvape3mEbHsB8JikPuBrwG227+2lAyGEUJbRzBFnQXfOEA8vB/yt436/pKnZ/p4bAHuQ9vf8Qi9tjbRDxyeA7SXNJVXW3QFsCJxOWthnfUlfB5C0FHAuqbLuk700HkIIZWqN4jaCp0ixrm2K7YXZz3sCawC/APYCDpe0w3AnG3ZEbHvr9s9ZMD6w42Ld2qR96Q7NRsKXAL+w/ZWRX0MIIZQvxxLnecBOwAXZHPEd7Qdsf6b9s6QvAg/bvmK4k+WVvrYrqchjSUk7ZseOsn1TTucPodHignE95Ji+djFptuBGUtLC3pIOB+bbvnS0J+trtapLcZ46fY1SGo8PQQjNt/Clh8Y9np295kd7jjkHPvj/SivDmxQFHSFULQYD9dDogo4QwvhEcKyHRgfirj3rvgismj20NnCz7d2yVLd/IaW4XWL7S3l3NoQQxqOxa010V9bZ3i07vgJwDXCYpDeRgvAsUrnfcZKmZfnFtRAjklC1sqYn4r0+tLouDD+WPevajgO+afsvkg4AfgWcA6wGnFCnIAzxIQjVi/dG9Ro5NTHEnnXtqYptSRV2ACsBW5N2cl4amCfpnbafLKTXITRMXKyrh6YuDP+KPesk7Qz8I3Bee20J4HFgru2ngacl3QWsC9xSUL9DaJQIjvXQyKmJISrrHs4C8/EdT50HHJSVOS8BrA8stiRcCJNZjIjroa5TEyOtNTEUAfe179i+g7QY0DzSZqJfsv1/4+9eCCHkJ8e1JnIVlXU5i9FICMXIo7LuhLU+0nPMOeaBc6OyLoQQ8tbUi3UhhDBh1HWOuNfKuttYtAjy/bb3lrQE8EPgzPYSb5KOBd4PLAQOtR1ZEyGE2mhk1gS8vOA7tmd1HHsTqXhjTeDM7NjbSUthvis7fhHwztx7HEIDxXWKehioaZFzLyPitwHLSPpZ9vyjSeXO+wH/1vG8LYGf2W4Bf5Q0VdLKth/Nu9MhNE0Ex3qoZxjuLRA/RypzPhNYh7QZnrK9mTqftxypsKPtaWB5IAJxmPRiRFwPTZ4jvpe06nwLuFfS46T1JB7sel73Hk4zgChxDiHURn9Nx8S9BOJPkDYM/aSk1Ukj378M8rx5wFclnQy8jrSZ3mO59XQcYoQQQoBmj4i/C5wt6QbSFMsnOnYrfZntWyVdD9xEqtg7KNeejkN8LQwhQH0v1k2KyjqIYByqF0uxjk8elXWHrb1bzzHntD+cH5V1eYogHOog3hvVa/LURAghTAitmk5NRCAOIUwaC5sciAcrcc6OHwNs2N7HLju2DHAj8Nl26XMIIdRBPcPwGEucs+M7AjsCf+r6lW9R39cbQiXiOkU91DVrYqwlzo8BBwBfBPZtP1HSkaTRcE2X1gihGhEc66HJF+sGK3H+A7AHsF77SZK2BdaxfYCkmfl3NYTmihFxPdT1Yt2IecSSliRVyT2f3b+XtC/dg8CrgdWBU4GNgLWABcBbgL8Ce9q+fahzRx5xCKFXeeQR7732P/Ucc773h4tqlUfcXeI8AKyfLfozi7Sh6Jc7f0HS2cD5wwXhMkUQDiFAs6cmeipxDiGEuhuosJJ4OCMGYtsvkeaDB3tsLjB3kON7jbNfIUwo8a2sHuoZhqOgI4QwiTQ5fS2EME4xSq2HumZNjKmyDnhDx8NvAc4GPk/ax25t0q7V+9m+J6+OhhDCeDW2xHmoyrrssTcCFwDHA+8DptreQtL2wAnAP+Xa2xAaKuaI66HJI+JXVNbZvjl77OvAv9l+JssvnippCmkXjwWF9HgM4o0Zqrb06luVGozD4PJKX8vi3LdJ8fFFYF/b8zsePwxor8HzU9vHDXe+MVXWKe0auj6wnO2fZ897hjQtcQ+wEvCBHl9TCBNeBOF6yHEjjF2BpWxvLmkz4BRgF3h5puAjwLtIiRrXS7rY9m+HOtl4Ng/9KHBGx/MOA660fZSkNYFfSNrQ9gujf40hTCzxrawecsya2BK4AsD2zZI26XjsQWAH2/0AkqYBw8bB8Wweui3wlY7nPcGi6Yj/A6aRSqErF/NzoWrxHqyH0eziLGl/YP+OQ3Nsz8l+Xo5FCQwA/ZKm2l5oewHwmKQ+4GvAbbbvHa6tMVfWSVrV9uMdzzsNOCvbQHQ6aS752R7OH0IIpRjNiDgLunOGePgpYEbH/SmdFcdZksNZwNPAJ0dqa8yVdbbX6Lr/DPDhkc4XwmQUo9R6yHGOeB6wE3BBNkd8R/uBbCR8CfAL218Z4vcXEwUdIZQgpibqIcdFfy4GtpfUXn99b0mHA/NJU7LbAEtmG2gAHGX7pqFOFoE4hBJEcKyHvPKIbQ8AB3Yd7ixgW2o05+u1su4oYGfS3O+3bX83O35a6pNnZ/dHlTtXlsjhDCFAfdeamDLSE7I1h7cAZpKG22tKWlnS5aTg3H5eO3duC2Bz4D2SNiqi06MVQTiEANDfGuj5VqZeRsTvJU1EX0xK2fg08CrSfnU7djxv1LlzIYRQpiaXOK9E2gLpA6TFfi4F3mL7/o6JaMaSOxfCZBEX6+qhsQvDA48D92RpbJb0ArAyaU+6xYw2d64s8cYMVYv3YD3UMwz3FohvAA6RdCqptHlZUnBezFhy58oSo5FQtXgP1kNdL9b1UtBxmaStgVtIF/cOas8Dd9mVUebOhTBZRHCsh7oG4r4cK01Gber0NUppPEYjITTfwpceGvf29puuvk3PMeeWP1877vZ6NSkKOiKPOFQtBgP10OSsicaLIBxCgFzXmsjVeCvr9gA+ZXvz7P6OwLHZr/2aNJ9c+SuPEUIIAeo7R9zLnnWzWFRZtwxwZHZ8Y2Af0oIXSJpByh+eZfsxSZ8h5SA/WkjPRyG+FoaqxfuiHuo6Ih6xxJnFK+t+DFwmaUXgy8ChHc/bInveKdmaxI/YrjwIhxBCWz8DPd/KNJbKusuAu0hbIz3f9bx3AxuT9q+7XtJNUV0XQnwrq4uJVFn3OmAhcDppqbf1JX2dtH/TL20/DCDpOlJQjkAcQqiFumZN9DI1cQOwg6S+bM+6h4ANbM8iLXl5l+1DgVuBDSStJGkqsBlp5BxCCLUw0Gr1fCvTiIHY9mXAbaTKuh8zRGVdNh98FHAl8D/Af9u+M9/ujk18VQshQBoR9/q/MkVlXc4i6IfBxHtw/PKorFt35U16jjn3PvqrqKwLYSKZqMGxacpe8L1XEYhDCJNGXS/WjamyjnRhbjYpe+JeYF/bA5L2Aw7Ijh+fzS+HMOnF1EQ9tGo6Ih7TnnWkMuZ/t70lsCTwfkmrAgdnz3svcJKkJQvqdwghjNoArZ5vZRrrnnUDwGuyxeBnAAuATYF5tl8EXpQ0H9gI+GURHQ+hSWKUWg9NLnFeCdgE+BBwIHAu8L/AN4C7gdcCc0lB+m8dv/c0sHyOfQ0hhHFp8oh4sD3rzgU2tP07SQcBp5Dyh2d0/N4M4Mm8OzwWsR5xqFrMEddD/0A954jHumfd74Gnssf/TJoXvgU4IdtAdElgPaAWBR0RhEMI0OCsicH2rAOeBc6XtBB4CdjP9sOSvgFcnz3vGNsvFNf1EEIYnbrOEUdlXc7ia2EIxcijsm7l5dVzzHn0b47KuhBCyFtdR8QRiEMoQXwrq4fGXqyTtBewV3Z3KdIaw6uS0tN+CJxp+4qO5y8D3Ah8tvN4CCFUrbF71tk+GzgbQNK3gLOAFUk7dawJnNn1K9+Cmr7aECoSo9R6qOvURC8FHQBI2gR4q+05wKuA/YBrup5zJGk0/Js8Ozle8SEIIUB9F4YfzRzx0cBxALZ/AyDp5QclbQusY/sASTPz7OR4RR5xqFrMEddDY/OIASS9GniL7WuGedo+wFqS5gJvAd4u6WHbt4+/myGEMH5N3jwUYGvg6uGeYHuP9s+SzgbOr0sQjhFCCAFgoKbLYPYaiAXcV2RHihRfC0MIkN/FOklTSGuzvw14kbQm+/yOx0e1NntPgdj214Y4vtdojocQQpVyzJrYFVjK9uaSNiMtfLYLQMfa7JuQUn5vkHRVtkTwoCot6MijZLFuFr70UNVdCJNcvAeHtmAUMUfS/sD+HYfmZFljAFsCVwDYvjnLKmsb9drsUVkXQgiDyILunCEe7l5/vV/SVNsLB3lsxLXZe84jDiGE8LKnWHz99SlZEB7ssRHXZo9AHEIIozcPeB9ANkd8R8djtwBbSVpK0vL0sDZ7pctghhBCE3VkTWwE9AF7kwLzfNuXZlkT+5MGuyfavmi480UgDiGEisXURAghVCwCcQghVCwCcQjDkLRu1X0YicLnAAAQn0lEQVQIE18E4gpJmiHpfZL+sX2ruk/hFc4GkHRxWQ1KWq3r/ptLaHPNotsIQ2tMQYekGcC/AasBPwF+21nb3VBXAfOBJ7L7LeC/i2iorH8/SfuSauyXJF1NbtneKO92SjRf0sPACpL+nB1rv67V82xI0nrA6sDJko7IDi8BfBX4uzzbyto7GHgeeDWwt6QrbB+edzthZI0JxKSdQS4HtgG+m922KbpRSf9h+18LOv1Ttj9a0Lm7lfXvdziwM4v+uDTdmbb3lHSW7U8U3NYqpG3JViOlQwEMAGcU1N7upPfAFcBbgZ8X1A6SjiNtJgEF/SFrsiYF4hVtnyXpo7ZvlFTWOhXfKvDcV2UjyLvaB2zfWFBbZf373QHcZ7uw9QYlnUv6ML9C53KsOTlZ0ruBN0qa1tmu7ZfybMj2tcC1kt5pe8h1CXLUIgX9R2y3JL2mwLZ2Ad5k+/kC22isJgViJL0l++/rgP6C2ngTsKnt/5R0EvCdItrJbM7i5Y8t0lZThSjj34+0bvX8bKGT9sjnPTm3cSFwAvAvOZ93MFcBtwOvA+7tON4C3lhQm8tJupS0chcABfwbQtrq7Dpgd0mnAcMWHYzT7cA00lRI6NKkQHww8D1SueCFFPch/D5wTPbz5aSv8NsW1Nbytos6d7fuf79PFtTOgcDHGKG2fjxsXyxpG2AV2/9VVDtZW8cAx0j6vO0vFdlWh68DnwYeLLidi7PXh6RfkQYGRfkN8Odsnr39BzoyUjJNCsRr2375jSLpw8BtRTRke2723+uyUsai/FbSB0mvo5W1WdQC/Dt0/vsV6E/AjbYLLdm0fWiR52+TtK/tM4FlJJ3Y1YejC2r2QdtXFHRuJG0FrA8cJunU7PAU4F+BDQpqdnfSBhOF/YFustoHYkkfAGaSvj5tkR2eQppzuqCAJp/M1iG9ibSu6NMFtNG2SXZra5G2pSrC+ySdZruoKYm2acBtku5g0R+XPQtuE4COZQjz1B6V3pPzeYfziKT/YPE/0GfleP4ngFVJmS3tVLkB4DM5ttHtj8CTtp8tsI3Gqn0gJn2lWZE0t+Ts2ABwfkHt7UWamvgH0kW0wq6U215sX6XsYlBRViZ9Nbyf9OFu2d5ihN8Zi1MKOGevLgN2yPOEtq+UtArps7IiacT/U9tFjuz+lP137SJObvtO4E5JZ9hup+QV/f5bjUXXDiC9/4oadDRO7QOx7QeBcyT9oPNKfHfSe47tPZp9BW1fKFmmiHYAJO1DSvdqX40fIH19K8IHCjpvt1uB7Vn0mlanwLSoTrZzDcIAWcbE6aR59b8C7wCOk7SX7Xl5twdg+/OSZpEuBv4PKde8CDtl+cpTSf9fLQCKmrct5VtRU9U+EHc4VtIngemk4HgvKfcxV5K+DewI/IXsogJQxMgR0gXHHYCjSIUcRV1Ag5QlcRppbvBe4LCC2rkIuJ/0/82LwDPAoHsejldJRSpfALa2/deOdk8GfgBsl3Nb7fN/CXgTKSi2gKOBjxTQ1H6kPOLPAf8FFDnvPgB8kMX/QB9UYHuN0qQS5x1JKUTnkq78F7Ux16akfMctbG9e0Nf3tseyEf+ytq8GViqwrTNIwWMmcA4pG6QIfbb3Be4mZZu8uqB2IBWp3EcKWA9TzGua0hmEAWz/pYB2Om2T5UM/bft7pKBchMey1zIju0BdZB7x/yN9y3w36fO7aoFtNU6TAvHj2WZ8M7JRT1FTBvPpyN8s2FOSdoaXpylWKbCtpWxfavtJ2z8ijUwKIWk66Y9LP7BsUe2QFakAC7JCmCKKVIa6uFnkZ2eqpCWBlqQlhunDeP1N0q5ZOweQriMU5fks/e/BrJq0yPd64zRpauJPkj4BPCvpy6QN+orweuCBrosKRY2K9yONdo4h5Y0W+VVtqqQNbd8haUOyq/EFmA0cCVwt6QHStjGFKaFI5U3daWukgF9UMQfAN4BfkYLVTcB/FNTOvsCbgc+S/j87sKB2APokrQzMkLQ0xY6+G6cRgVjSRsCjwIdIe0X9DditoOZ2L+i8g3matNXK60kXg35XYFsHA2dlFzn/zOLbhOfG9gUAkpYjzRcXueZEGUUqXxji+LEFtAWA7fMlXQ2sQ9p659GCmjqpYx2VIyR9H7i2oLaOB/4ZOI+UynZuQe00Uu0DsaQPkS7IzAZuBtYijST/SMcaDTmaRgr4nRcVDiigHUiv6THg70lpej8A3l9QW3cB+9u+Lfs6WkjQlzST9LqmkfK87yNbSrIAhRep2D6nyPMPRtL7SGmUS2X3sb1zjuc/iHSB7jXZ0qvtKZ0iPk8A2L5G0i2kz+9atp8rqq0masIc8SGkixdnZnOc3yRdcCrqCu/3s/9uCbyBlDtalHWy6qznbV9CsRe2zgXelf28LumCXRFOAmaRsk5OAj5VUDuQilSWKPD8VTkNmAMc13HLje1v2V4NOM726rZXy26Fldtnf/xvJP1x/rSko4pqq4maEIgXdlfj2H6a4i5gPGf7JOBPtvcCXltQOwDTshWvWpKWJaX4FGUN27MBbH+VRRVVeeu3/Thpbv15iq1MbBep3CzpJkmFLZhUsrtsX2371vYt7wYk7WL7REnLSfqapOOz92BRPk0aCDwKfImUyhYytZ+aYOjgVNQfkT5Jq5IuKixLsRcVvkCabnkt6aJWoYtyS1rX9r3Zjg9FjSTvz/JgXyPpSIpduKasIpWyNyb4kaTrSSmAANjObU4/u9i9jqTLSBcCnyVdNzid4gov+m2/IKlle0BSlDp3aEIgfquk87qO9ZEKE4pwHLAr8GPSPPT38m5A0t/Zvs32LySJlFP5SJFr+JKmeC7Isgx+R0EX60jz6QeQKsIWsmgx8CKUVaQC5W5McDBwKsUtkPMO29tLmkq6JrGm7eck3VBQewA3SfoBsEa2jsavC2yrcZoQiD88xPHZeTYi6e2kD9empMKK04HHSeu15u0U0gU6slXKCisQ6Hpd/056XTOANUjlyHm18//ZPsT2AopLt+p2Bun1XEealy5yydIyNyZ42HaRWQXthZE2Be7suHA2Pe+GJP3Q9j/b/rdsAa+7gHtsl7YHYBPUPhBnuxaU4QTg47YXSDqeVMk3nzQKurSkPhShrNe1YY7n6tVSttuv4UeSip7aKWNhfUi58pex+OprQ6XRjUW/pPeQMjMuApC0HcWMwF8uErF9GWlhptCl9oG4RFNs/1bS6qSqsF8DSCpiumCmFm1E2VbUPl5lva41suVDX8H2nJzbaiurSAXKW1gf4MoCzw1pmupE4A/A6ZLeS9qgdKhvn+MxWEEMUOh6zo0TgXiR9sW/HUjb/ZCVmc4ooK0bbb+7gPMOpqzXNZ001939lb3o4Fh4kUqmrIX1IeVdv53Fc9lzY/v3pOKKtispLvg/x6Lla8MQIhAvcrWkecCawM5Ke9edDvyw2m6NW1mv6w+2/z3nc46klCKVTFkL60OaLngV6Q/bVNIfmUK3hCrQw1UUxTRNE/KIS2H7K6Ta+7+zfXt2+PQspzhvJxRwzkGV+LqKWg1vOGUVqUC5Ocuvsb0dKbXx7RRwEa1EuedAT0R9rVahW4uFUBhJN3nxfQyvKWrKR9Ja3cdsP1BQW1fb3k7Sf9reXdL/2H7XyL856nba+/G17x9s+xt5txNGFlMTodFKKlKBcnOWL5X0edJ2RjeQ5llzI2l3YGfg3ZL+Pju8BGnj0AjEFYhAXLFslbK1gPu6S7mbSNLytv9WUnNlFalAiTnLtr8hqc92S9JPyX/j0itIuesrAt/Jjg0Av8+5ndCjCMQVkvRB0lrEU0kBpWX7+Iq7NV4/IS2YVJiyilS6lJaznKXi7Sepc4OC3P7I2H4CmCvpvq6HIh5UJP7hq3UYsBlphHI8aTHwpgfi/5N0CCllaQDA9s9ybqOK4psyc5a/TxqpFrlOB6TMmRbpov0bgP+l4D+iYXARiKs1YPvFbCTcmiALoTwObJzdIH3Q8w7EZRbftJWZs/xIe6W8InVd6Hw1i6YpQskiEFfrekn/CbxO0mzgl1V3aLxs7y1pA7KLWh0pc3kqs/imrcyc5fuzles6S5x/UWB7kHa9KWqT0jCCCMQVsn20pB1IK1HdndXiN5qkTwF7kFZfO1LSBbZPzrmZKopvziUF/dtIOcsfJr3OIrwKeFt2gxSMcw/Ekm7Kzt1HypO+Ku82Qm8ij7hCkt4A7ETHrtHZou2NlX24t7K9UNI0Ujn3OwtoZz3gr7YfzwLxRkWu6FVyzvJXbX+miHN3tdOZG/2C7UeKbjMMLirrqnUJaeH5FztuTddneyFAtiTmgiIasX13thMItn9fxrKKktbN/vsmis1Z3ihbiL5o/cDJwE+B2ZLWLqHNMIiYmqjWg7a/WHUncjZP0oXA9aQr8PMq7k9e2jnLryWVcxe59bxI2SePkKYOWrZfX0A7Za7nHIYRUxMVknQgsDYdu+fa/v6Qv9AQkt5PWi7ybts/qbo/eZK0AmkfxcL24tMgG6IWsdhQ9/SKpGttF7XrSBhGjIirtRtpX7L1svuN/auYBY8lgPNJSyxeBSwh6Re2/37YX66xruKRD5B2hnlS0pG2f1xQs6cPcqyIdLnu3OhQkQjE1XrR9r9U3YmcfAI4mrR0o0lX4vuBIvdBK0Nn8cgJwPtIhQ+Xk/Y1LMIl2X/7SKuvFbWTeDs3enXSdEuRudFhGDE1USFJc4D7Selr7XzRvIsfSiXpE7bPqrofeZF0pe33ZsHqJttrZcevt71VmX0o8PxLkeahJ8LF4kaKEXG1ppFyUtfN7hdRhVaKjiUV1+neGqfhW+KUXjzSsSIawGrZLc/zr0vawPZ+0rZPFwMtSYfZ/kGebYXeRCCuUElVaGVpr4uQ90phVauieGTvjp9fAPbJ+fxnAceRUid/Qpr+eJS05kkE4grE1ESFuqrQtgCKqEIrlaRlgRVIW7bvB3y/qAXUy1J28UhHm+uR/kDfmfO559qelf18o+0tsp+vznYGCSWLgo5q7UGqQjsUmMniGzo21bnAO0i7Ai8AitrBuTRlF49I+iRp26e/B86RlPci9J2LI73Q8XPEg4rE1ES1FqtCk1RIFVrJViAtRXmI7T2ztTTC6HwMmJm9J6aTimJOy/H8b5V0Hikro/Pn9XNsI4xCBOJq3dBRhbYVE6MKbTpwBHCrpPVJC9iE0enLysOx/ZKkl3I+/4c7fp49xM+hRDFHXLGJVoUmaQtgV+BE4CPAL23fUm2vmkXSaaRMiXaZ+F9sF7YjSKheBOIKSNpzqMeaWuIs6XW2/9ReGKeT7Xur6FPTSPqh7X/Oft6FRX+gLxn+N0PTxdRENdbr+Hl3oD1H1+S/iodnt++waI1bsp8bW+JcspXbP2TBNwLwJBEj4ooVua5tmSTtA5xn+/mq+9JUkh4gZZ28QsOLYsIIYkRcvYnyl3BD4A5JPwO+Y/s3VXeogZ4jrdMRJpkIxCEXtg+V9GlgF+DEbDPKs4D/tP1ctb1rjIdtn1N1J0L5IhBXINswtD2P2s7jBMB2UfugFS5LuboQuDDb7fgQ4I/ASpV2rDlurboDoRoRiKsxYXM3s5W8/gHYk7QwTuF7r00Uto+sug+hGnGxLuRC0izg46Qtdy4Bzsx7jYQQJqoYEYe8HEdKXTsw1rUNYXRiRBxCCBWL1ZZCCKFiEYhDCKFiEYhDCKFiEYhDCKFi/z/usH4OcTcTKgAAAABJRU5ErkJggg==\n",
      "text/plain": [
       "<Figure size 432x288 with 2 Axes>"
      ]
     },
     "metadata": {
      "needs_background": "light"
     },
     "output_type": "display_data"
    }
   ],
   "source": [
    "#use seaborn heatmap to see where values are missing.  \n",
    "sns.heatmap(rd_df.isnull())"
   ]
  },
  {
   "cell_type": "code",
   "execution_count": 8,
   "metadata": {},
   "outputs": [],
   "source": [
    "#very few rows have data for sanc. column so I will drop that column. \n",
    "#score diff is dropped since it provides no new info\n",
    "#Bout stats column is dropped since it is just a series of links to mostly empty stat pages\n",
    "rd_df.drop(['Sanc.', 'Score Diff', 'Bout Stats'], axis=1, inplace=True)"
   ]
  },
  {
   "cell_type": "markdown",
   "metadata": {},
   "source": [
    "I need to create a column that denotes whether a particular bout was home or away.  To do that, I use a loop over all the bouts and compare the first word of the Team column with the first of the Home Team column.  We cannot simply compare the two columns because the Team column gives the full team name while the Home Team column uses shortened versions."
   ]
  },
  {
   "cell_type": "code",
   "execution_count": 9,
   "metadata": {},
   "outputs": [],
   "source": [
    "#set up a list to store values denoting whether a bout was at home or away \n",
    "home=[]\n",
    "for i in range(rd_df.shape[0]):\n",
    "    tName=rd_df['Team'][i].split()\n",
    "    hTeam=rd_df['Home Team'][i].split()\n",
    "    if tName[0]==hTeam[0]:\n",
    "        home.append('yes')\n",
    "    else:\n",
    "        home.append('no')\n",
    "rd_df['HomeBout']=home"
   ]
  },
  {
   "cell_type": "code",
   "execution_count": null,
   "metadata": {},
   "outputs": [],
   "source": []
  },
  {
   "cell_type": "code",
   "execution_count": 10,
   "metadata": {},
   "outputs": [],
   "source": [
    "#for each home bout fill the opponent column with the visitor team, and for each away bout fill opponent with home team.  \n",
    "#same for team's score and opponent's score\n",
    "Tscore=[]\n",
    "Oscore=[]\n",
    "Opponent=[]\n",
    "for i in range(rd_df.shape[0]):\n",
    "    if rd_df['HomeBout'][i]=='yes':\n",
    "        Opponent.append(rd_df['Visitor Team'][i])\n",
    "        Tscore.append(rd_df['Score'][i])\n",
    "        Oscore.append(rd_df['Score.1'][i])\n",
    "    else:\n",
    "        Opponent.append(rd_df['Home Team'][i])\n",
    "        Tscore.append(rd_df['Score.1'][i])\n",
    "        Oscore.append(rd_df['Score'][i])\n",
    "rd_df['Opponent']=Opponent\n",
    "rd_df['Team_score']=Tscore\n",
    "rd_df['Opponent_score']=Oscore"
   ]
  },
  {
   "cell_type": "markdown",
   "metadata": {},
   "source": [
    "Next I will tackle the tournament column.  The name of a particular tournament is not particularly useful but we may want to know whether a bout was part of a tournament or not.  Tournaments generally involve multiple bouts played over at most a few days as opposed to non-tournament bouts that may take place only once a month.  All of the null values can be replaced with 'no' and the tournament names can be replaced with 'yes.'"
   ]
  },
  {
   "cell_type": "code",
   "execution_count": 11,
   "metadata": {},
   "outputs": [],
   "source": [
    "rd_df['Tournament'].fillna('no', inplace=True)\n",
    "rd_df['Tournament']=np.where(rd_df['Tournament']!='no', 'yes', 'no')"
   ]
  },
  {
   "cell_type": "code",
   "execution_count": 12,
   "metadata": {},
   "outputs": [
    {
     "data": {
      "text/html": [
       "<div>\n",
       "<style scoped>\n",
       "    .dataframe tbody tr th:only-of-type {\n",
       "        vertical-align: middle;\n",
       "    }\n",
       "\n",
       "    .dataframe tbody tr th {\n",
       "        vertical-align: top;\n",
       "    }\n",
       "\n",
       "    .dataframe thead th {\n",
       "        text-align: right;\n",
       "    }\n",
       "</style>\n",
       "<table border=\"1\" class=\"dataframe\">\n",
       "  <thead>\n",
       "    <tr style=\"text-align: right;\">\n",
       "      <th></th>\n",
       "      <th>Date</th>\n",
       "      <th>Home Team</th>\n",
       "      <th>Score</th>\n",
       "      <th>Visitor Team</th>\n",
       "      <th>Score.1</th>\n",
       "      <th>Tournament</th>\n",
       "      <th>Team</th>\n",
       "      <th>HomeBout</th>\n",
       "      <th>Opponent</th>\n",
       "      <th>Team_score</th>\n",
       "      <th>Opponent_score</th>\n",
       "    </tr>\n",
       "  </thead>\n",
       "  <tbody>\n",
       "    <tr>\n",
       "      <td>0</td>\n",
       "      <td>8/17/19</td>\n",
       "      <td>Big Easy</td>\n",
       "      <td>184.0</td>\n",
       "      <td>Bux-Mont</td>\n",
       "      <td>59.0</td>\n",
       "      <td>no</td>\n",
       "      <td>Big Easy Rollergirls</td>\n",
       "      <td>yes</td>\n",
       "      <td>Bux-Mont</td>\n",
       "      <td>184.0</td>\n",
       "      <td>59.0</td>\n",
       "    </tr>\n",
       "    <tr>\n",
       "      <td>1</td>\n",
       "      <td>7/27/19</td>\n",
       "      <td>Big Easy</td>\n",
       "      <td>283.0</td>\n",
       "      <td>Carolina</td>\n",
       "      <td>55.0</td>\n",
       "      <td>no</td>\n",
       "      <td>Big Easy Rollergirls</td>\n",
       "      <td>yes</td>\n",
       "      <td>Carolina</td>\n",
       "      <td>283.0</td>\n",
       "      <td>55.0</td>\n",
       "    </tr>\n",
       "    <tr>\n",
       "      <td>2</td>\n",
       "      <td>6/22/19</td>\n",
       "      <td>Big Easy</td>\n",
       "      <td>156.0</td>\n",
       "      <td>Rockin' City</td>\n",
       "      <td>82.0</td>\n",
       "      <td>no</td>\n",
       "      <td>Big Easy Rollergirls</td>\n",
       "      <td>yes</td>\n",
       "      <td>Rockin' City</td>\n",
       "      <td>156.0</td>\n",
       "      <td>82.0</td>\n",
       "    </tr>\n",
       "    <tr>\n",
       "      <td>3</td>\n",
       "      <td>6/22/19</td>\n",
       "      <td>North Texas</td>\n",
       "      <td>98.0</td>\n",
       "      <td>Big Easy</td>\n",
       "      <td>132.0</td>\n",
       "      <td>no</td>\n",
       "      <td>Big Easy Rollergirls</td>\n",
       "      <td>no</td>\n",
       "      <td>North Texas</td>\n",
       "      <td>132.0</td>\n",
       "      <td>98.0</td>\n",
       "    </tr>\n",
       "    <tr>\n",
       "      <td>4</td>\n",
       "      <td>6/15/19</td>\n",
       "      <td>Big Easy</td>\n",
       "      <td>123.0</td>\n",
       "      <td>Nashville</td>\n",
       "      <td>160.0</td>\n",
       "      <td>no</td>\n",
       "      <td>Big Easy Rollergirls</td>\n",
       "      <td>yes</td>\n",
       "      <td>Nashville</td>\n",
       "      <td>123.0</td>\n",
       "      <td>160.0</td>\n",
       "    </tr>\n",
       "  </tbody>\n",
       "</table>\n",
       "</div>"
      ],
      "text/plain": [
       "      Date    Home Team  Score  Visitor Team  Score.1 Tournament  \\\n",
       "0  8/17/19     Big Easy  184.0      Bux-Mont     59.0         no   \n",
       "1  7/27/19     Big Easy  283.0      Carolina     55.0         no   \n",
       "2  6/22/19     Big Easy  156.0  Rockin' City     82.0         no   \n",
       "3  6/22/19  North Texas   98.0      Big Easy    132.0         no   \n",
       "4  6/15/19     Big Easy  123.0     Nashville    160.0         no   \n",
       "\n",
       "                   Team HomeBout      Opponent  Team_score  Opponent_score  \n",
       "0  Big Easy Rollergirls      yes      Bux-Mont       184.0            59.0  \n",
       "1  Big Easy Rollergirls      yes      Carolina       283.0            55.0  \n",
       "2  Big Easy Rollergirls      yes  Rockin' City       156.0            82.0  \n",
       "3  Big Easy Rollergirls       no   North Texas       132.0            98.0  \n",
       "4  Big Easy Rollergirls      yes     Nashville       123.0           160.0  "
      ]
     },
     "execution_count": 12,
     "metadata": {},
     "output_type": "execute_result"
    }
   ],
   "source": [
    "#checkpoint\n",
    "df2=rd_df.copy()\n",
    "df2.head()"
   ]
  },
  {
   "cell_type": "markdown",
   "metadata": {},
   "source": [
    "I'd like to be able to look at yearly or monthly stats so I format the date column and extra the year and month to their own columns.  "
   ]
  },
  {
   "cell_type": "code",
   "execution_count": 13,
   "metadata": {},
   "outputs": [],
   "source": [
    "df2['Date']=pd.to_datetime(df2['Date'])\n",
    "df2['month'] = pd.DatetimeIndex(df2['Date']).month\n",
    "df2['year']=pd.DatetimeIndex(df2['Date']).year\n",
    "df2['win']=np.where(df2['Score']>df2['Score.1'], 'win','loss')"
   ]
  },
  {
   "cell_type": "markdown",
   "metadata": {},
   "source": [
    "   Now there are quite a few columns that are no longer needed so I'll drop them and reorder my columns. "
   ]
  },
  {
   "cell_type": "code",
   "execution_count": 14,
   "metadata": {},
   "outputs": [],
   "source": [
    "df2.drop(['Home Team', 'Score', 'Visitor Team', 'Score.1'], axis=1, inplace=True)\n"
   ]
  },
  {
   "cell_type": "code",
   "execution_count": 15,
   "metadata": {},
   "outputs": [
    {
     "data": {
      "text/plain": [
       "Index(['Date', 'Tournament', 'Team', 'HomeBout', 'Opponent', 'Team_score',\n",
       "       'Opponent_score', 'month', 'year', 'win'],\n",
       "      dtype='object')"
      ]
     },
     "execution_count": 15,
     "metadata": {},
     "output_type": "execute_result"
    }
   ],
   "source": [
    "df2.columns"
   ]
  },
  {
   "cell_type": "code",
   "execution_count": 16,
   "metadata": {},
   "outputs": [],
   "source": [
    "col_names=['Team', 'Opponent','Date', 'Team_score', 'Opponent_score','win', 'HomeBout', 'Tournament', 'month','year']\n",
    "df2=df2[col_names]"
   ]
  },
  {
   "cell_type": "code",
   "execution_count": 113,
   "metadata": {},
   "outputs": [
    {
     "data": {
      "text/html": [
       "<div>\n",
       "<style scoped>\n",
       "    .dataframe tbody tr th:only-of-type {\n",
       "        vertical-align: middle;\n",
       "    }\n",
       "\n",
       "    .dataframe tbody tr th {\n",
       "        vertical-align: top;\n",
       "    }\n",
       "\n",
       "    .dataframe thead th {\n",
       "        text-align: right;\n",
       "    }\n",
       "</style>\n",
       "<table border=\"1\" class=\"dataframe\">\n",
       "  <thead>\n",
       "    <tr style=\"text-align: right;\">\n",
       "      <th></th>\n",
       "      <th>Team</th>\n",
       "      <th>Opponent</th>\n",
       "      <th>Date</th>\n",
       "      <th>Team_score</th>\n",
       "      <th>Opponent_score</th>\n",
       "      <th>win</th>\n",
       "      <th>HomeBout</th>\n",
       "      <th>Tournament</th>\n",
       "      <th>month</th>\n",
       "      <th>year</th>\n",
       "    </tr>\n",
       "  </thead>\n",
       "  <tbody>\n",
       "    <tr>\n",
       "      <td>0</td>\n",
       "      <td>Big Easy Rollergirls</td>\n",
       "      <td>Bux-Mont</td>\n",
       "      <td>2019-08-17</td>\n",
       "      <td>184.0</td>\n",
       "      <td>59.0</td>\n",
       "      <td>win</td>\n",
       "      <td>yes</td>\n",
       "      <td>no</td>\n",
       "      <td>8</td>\n",
       "      <td>2019</td>\n",
       "    </tr>\n",
       "    <tr>\n",
       "      <td>1</td>\n",
       "      <td>Big Easy Rollergirls</td>\n",
       "      <td>Carolina</td>\n",
       "      <td>2019-07-27</td>\n",
       "      <td>283.0</td>\n",
       "      <td>55.0</td>\n",
       "      <td>win</td>\n",
       "      <td>yes</td>\n",
       "      <td>no</td>\n",
       "      <td>7</td>\n",
       "      <td>2019</td>\n",
       "    </tr>\n",
       "    <tr>\n",
       "      <td>2</td>\n",
       "      <td>Big Easy Rollergirls</td>\n",
       "      <td>Rockin' City</td>\n",
       "      <td>2019-06-22</td>\n",
       "      <td>156.0</td>\n",
       "      <td>82.0</td>\n",
       "      <td>win</td>\n",
       "      <td>yes</td>\n",
       "      <td>no</td>\n",
       "      <td>6</td>\n",
       "      <td>2019</td>\n",
       "    </tr>\n",
       "    <tr>\n",
       "      <td>3</td>\n",
       "      <td>Big Easy Rollergirls</td>\n",
       "      <td>North Texas</td>\n",
       "      <td>2019-06-22</td>\n",
       "      <td>132.0</td>\n",
       "      <td>98.0</td>\n",
       "      <td>loss</td>\n",
       "      <td>no</td>\n",
       "      <td>no</td>\n",
       "      <td>6</td>\n",
       "      <td>2019</td>\n",
       "    </tr>\n",
       "    <tr>\n",
       "      <td>4</td>\n",
       "      <td>Big Easy Rollergirls</td>\n",
       "      <td>Nashville</td>\n",
       "      <td>2019-06-15</td>\n",
       "      <td>123.0</td>\n",
       "      <td>160.0</td>\n",
       "      <td>loss</td>\n",
       "      <td>yes</td>\n",
       "      <td>no</td>\n",
       "      <td>6</td>\n",
       "      <td>2019</td>\n",
       "    </tr>\n",
       "  </tbody>\n",
       "</table>\n",
       "</div>"
      ],
      "text/plain": [
       "                   Team      Opponent       Date  Team_score  Opponent_score  \\\n",
       "0  Big Easy Rollergirls      Bux-Mont 2019-08-17       184.0            59.0   \n",
       "1  Big Easy Rollergirls      Carolina 2019-07-27       283.0            55.0   \n",
       "2  Big Easy Rollergirls  Rockin' City 2019-06-22       156.0            82.0   \n",
       "3  Big Easy Rollergirls   North Texas 2019-06-22       132.0            98.0   \n",
       "4  Big Easy Rollergirls     Nashville 2019-06-15       123.0           160.0   \n",
       "\n",
       "    win HomeBout Tournament  month  year  \n",
       "0   win      yes         no      8  2019  \n",
       "1   win      yes         no      7  2019  \n",
       "2   win      yes         no      6  2019  \n",
       "3  loss       no         no      6  2019  \n",
       "4  loss      yes         no      6  2019  "
      ]
     },
     "execution_count": 113,
     "metadata": {},
     "output_type": "execute_result"
    }
   ],
   "source": [
    "df2.head()"
   ]
  },
  {
   "cell_type": "markdown",
   "metadata": {},
   "source": [
    "## Calculations and Visualizations"
   ]
  },
  {
   "cell_type": "markdown",
   "metadata": {},
   "source": [
    "I'd like to examine some stats for a particular team in more detail.  For the sake of example, I'll use my team, Big Easy Rollergirls."
   ]
  },
  {
   "cell_type": "code",
   "execution_count": 18,
   "metadata": {},
   "outputs": [],
   "source": [
    "#checkpoint\n",
    "df=df2.copy()"
   ]
  },
  {
   "cell_type": "code",
   "execution_count": 19,
   "metadata": {},
   "outputs": [
    {
     "data": {
      "image/png": "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\n",
      "text/plain": [
       "<Figure size 720x432 with 1 Axes>"
      ]
     },
     "metadata": {},
     "output_type": "display_data"
    }
   ],
   "source": [
    "sns.set(rc={'figure.figsize':(10,6)})           \n",
    "sns.countplot('year', data=df[df['Team']=='Big Easy Rollergirls'], hue='win', palette='magma')\n",
    "plt.show()"
   ]
  },
  {
   "cell_type": "code",
   "execution_count": 47,
   "metadata": {},
   "outputs": [
    {
     "data": {
      "image/png": "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\n",
      "text/plain": [
       "<Figure size 432x288 with 1 Axes>"
      ]
     },
     "metadata": {},
     "output_type": "display_data"
    }
   ],
   "source": [
    "sns.set(rc={'figure.figsize':(6,4)})\n",
    "sns.countplot(x='HomeBout', data=df[df['Team']=='Big Easy Rollergirls'], hue='win', palette='magma')\n",
    "plt.title('Total wins and losses for home and away bouts')\n",
    "plt.xlabel('Home Bout?')\n",
    "plt.ylabel('Total number of bouts')\n",
    "plt.show()"
   ]
  },
  {
   "cell_type": "code",
   "execution_count": 21,
   "metadata": {},
   "outputs": [],
   "source": [
    "#function to calculate win ratio.  takes a dataframe and team name\n",
    "def win_rat (df, team):\n",
    "    tdf=df[df['Team']==team]\n",
    "    tot_bouts=tdf.groupby(['year'])['win'].size()\n",
    "    tot_wins=tdf[tdf['win']=='win'].groupby(['year'])['win'].size()\n",
    "    win_ratio=tot_wins/tot_bouts\n",
    "    return win_ratio"
   ]
  },
  {
   "cell_type": "code",
   "execution_count": 22,
   "metadata": {},
   "outputs": [],
   "source": [
    "#function to calculate points per bout\n",
    "def ppb (df, team):\n",
    "    tdf=df[df['Team']==team]\n",
    "    tot_bouts=tdf.groupby(['year'])['win'].size()\n",
    "    tot_points=tdf.groupby('year')['Team_score'].sum()\n",
    "    ppb=tot_points/tot_bouts\n",
    "    return ppb"
   ]
  },
  {
   "cell_type": "code",
   "execution_count": null,
   "metadata": {},
   "outputs": [],
   "source": []
  },
  {
   "cell_type": "code",
   "execution_count": 33,
   "metadata": {},
   "outputs": [],
   "source": [
    "wr_be=win_rat(df,'Big Easy Rollergirls')\n",
    "ppb_be=ppb(df, 'Big Easy Rollergirls')"
   ]
  },
  {
   "cell_type": "code",
   "execution_count": 34,
   "metadata": {
    "scrolled": true
   },
   "outputs": [
    {
     "data": {
      "image/png": "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\n",
      "text/plain": [
       "<Figure size 720x288 with 2 Axes>"
      ]
     },
     "metadata": {},
     "output_type": "display_data"
    }
   ],
   "source": [
    "#plot team specific win ratio and ppb\n",
    "fig, axes = plt.subplots(1, 2, figsize=(10,4))\n",
    "years=list(range(2007,2020))\n",
    "ax1=sns.regplot(y=wr_be, x=years, ax=axes[0], color='b')\n",
    "ax2=sns.regplot(y=ppb_be, x=years, ax=axes[1], color='b')\n",
    "ax1.set_xlim(2006,2019)\n",
    "ax2.set_xlim(2006,2019)\n",
    "ax1.set_title('Win Ratio by Year')\n",
    "ax1.set_xlabel('Year')\n",
    "ax1.set_ylabel('Win Ratio')\n",
    "ax2.set_title('Points per Bout by Year')\n",
    "ax2.set_xlabel('Year')\n",
    "ax2.set_ylabel('PPB')\n",
    "plt.suptitle('Big Easy Rollergirls Yearly Stats')\n",
    "plt.show()\n",
    "\n"
   ]
  },
  {
   "cell_type": "markdown",
   "metadata": {},
   "source": [
    "Sadly, it would seem that our win ratio is decreasing slightly over time.  Before we get too disappointed, I'll point out that their is a very large variance and the decrease since 2007 is small as can be seen in the slope of the trend line.  It is more encouraging to see that our points per bout has been steadily increasing over time."
   ]
  },
  {
   "cell_type": "code",
   "execution_count": 53,
   "metadata": {},
   "outputs": [],
   "source": [
    "#function to find win ratio for entire time period\n",
    "def wr_all (df, team):\n",
    "    tdf=df[df['Team']==team]\n",
    "    tot_bouts=tdf['win'].shape[0]\n",
    "    tot_wins=tdf[tdf['win']=='win']['win'].shape[0]\n",
    "    win_ratio=tot_wins/tot_bouts\n",
    "    return win_ratio"
   ]
  },
  {
   "cell_type": "code",
   "execution_count": 84,
   "metadata": {},
   "outputs": [],
   "source": [
    "#get wr_all for all teams\n",
    "wr=[]\n",
    "for t in df['Team'].unique(): \n",
    "    wr.append(wr_all(df, t))"
   ]
  },
  {
   "cell_type": "code",
   "execution_count": 112,
   "metadata": {},
   "outputs": [
    {
     "data": {
      "image/png": "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\n",
      "text/plain": [
       "<Figure size 720x432 with 1 Axes>"
      ]
     },
     "metadata": {},
     "output_type": "display_data"
    }
   ],
   "source": [
    "plt.figure(figsize=(10,6))\n",
    "plt.bar(x=df['Team'].unique(), height=wr)\n",
    "plt.xticks(rotation=20, ha='right')\n",
    "plt.ylim(bottom=.4)\n",
    "plt.axhline(y=0.5,linewidth=2, linestyle='--',color='k')\n",
    "plt.title('All-time win ratios')\n",
    "plt.xlabel('Teams')\n",
    "plt.ylabel('win ratio')\n",
    "plt.show()"
   ]
  },
  {
   "cell_type": "markdown",
   "metadata": {},
   "source": [
    "This final plot shows the win ratio for each of the teams over the entire time period.  The ratios above the dashed lines represent winning records (ie won at least 50% of their bouts).  Of these five teams, the Dallas Derby Dolls have the best ll time win ratio."
   ]
  }
 ],
 "metadata": {
  "kernelspec": {
   "display_name": "Python 3",
   "language": "python",
   "name": "python3"
  },
  "language_info": {
   "codemirror_mode": {
    "name": "ipython",
    "version": 3
   },
   "file_extension": ".py",
   "mimetype": "text/x-python",
   "name": "python",
   "nbconvert_exporter": "python",
   "pygments_lexer": "ipython3",
   "version": "3.7.3"
  }
 },
 "nbformat": 4,
 "nbformat_minor": 2
}
